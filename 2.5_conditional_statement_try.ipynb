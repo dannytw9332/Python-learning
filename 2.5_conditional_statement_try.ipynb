{
 "cells": [
  {
   "cell_type": "code",
   "execution_count": 1,
   "metadata": {},
   "outputs": [
    {
     "name": "stdout",
     "output_type": "stream",
     "text": [
      "x value isn't a number.\n"
     ]
    }
   ],
   "source": [
    "#This is the additional condition statement for try and except\n",
    "#try_except conditional statement is to use distinguish the input\n",
    "x = \"Danny\"\n",
    "try:\n",
    "    x = int(x)\n",
    "except:\n",
    "    x = -1\n",
    "\n",
    "if x == -1:\n",
    "    print(\"x value isn't a number.\")\n",
    "else:\n",
    "    print(\"x value is:\",x)"
   ]
  },
  {
   "cell_type": "code",
   "execution_count": 12,
   "metadata": {},
   "outputs": [
    {
     "name": "stdout",
     "output_type": "stream",
     "text": [
      "Please enter your username:Danny\n",
      "Please enter your password by number only and first number can't be ZERO:012\n",
      "Your username is: Danny\n",
      "Your password is: 12\n"
     ]
    }
   ],
   "source": [
    "#an example to distinguish inputs\n",
    "username = input(\"Please enter your username:\")\n",
    "password = input(\"Please enter your password by number only and first number can't be ZERO:\")\n",
    "error = None\n",
    "\n",
    "try:\n",
    "    password = int(password)\n",
    "except:\n",
    "    error = -1\n",
    "\n",
    "if error == -1:\n",
    "    print(\"your password typed wrong!\")\n",
    "else:\n",
    "    print(\"Your username is:\",username)\n",
    "    print(\"Your password is:\",password)\n"
   ]
  },
  {
   "cell_type": "code",
   "execution_count": null,
   "metadata": {},
   "outputs": [],
   "source": []
  }
 ],
 "metadata": {
  "kernelspec": {
   "display_name": "Python 3",
   "language": "python",
   "name": "python3"
  },
  "language_info": {
   "codemirror_mode": {
    "name": "ipython",
    "version": 3
   },
   "file_extension": ".py",
   "mimetype": "text/x-python",
   "name": "python",
   "nbconvert_exporter": "python",
   "pygments_lexer": "ipython3",
   "version": "3.8.3"
  }
 },
 "nbformat": 4,
 "nbformat_minor": 4
}
