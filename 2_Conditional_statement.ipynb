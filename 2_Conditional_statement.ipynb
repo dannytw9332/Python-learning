{
 "cells": [
  {
   "cell_type": "code",
   "execution_count": 4,
   "metadata": {},
   "outputs": [
    {
     "name": "stdout",
     "output_type": "stream",
     "text": [
      "x value is larger than 5.\n"
     ]
    }
   ],
   "source": [
    "#This part is to learn if loop\n",
    "x = 6\n",
    "if x < 5:\n",
    "    print(\"x value is lower than 5.\")\n",
    "elif x==5:\n",
    "    print(\"x value is same as 5.\")\n",
    "else:\n",
    "    print(\"x value is larger than 5.\")"
   ]
  },
  {
   "cell_type": "code",
   "execution_count": 7,
   "metadata": {},
   "outputs": [
    {
     "name": "stdout",
     "output_type": "stream",
     "text": [
      "a hasn't the largest value.\n",
      "-------separated line-------\n",
      "a has the smallest value\n"
     ]
    }
   ],
   "source": [
    "#Used logical operators to make multiple conditions.\n",
    "a = 3\n",
    "b = 5\n",
    "c = 10\n",
    "\n",
    "if b < a and c < a:\n",
    "    print(\"a has the largest value.\")\n",
    "else:\n",
    "    print(\"a hasn't the largest value.\")\n",
    "\n",
    "print(\"-------separated line-------\")\n",
    "    \n",
    "if b < a or c < a:\n",
    "    print(\"a may be larger than a or c\")\n",
    "else:\n",
    "    print(\"a has the smallest value\")"
   ]
  },
  {
   "cell_type": "code",
   "execution_count": null,
   "metadata": {},
   "outputs": [],
   "source": []
  }
 ],
 "metadata": {
  "kernelspec": {
   "display_name": "Python 3",
   "language": "python",
   "name": "python3"
  },
  "language_info": {
   "codemirror_mode": {
    "name": "ipython",
    "version": 3
   },
   "file_extension": ".py",
   "mimetype": "text/x-python",
   "name": "python",
   "nbconvert_exporter": "python",
   "pygments_lexer": "ipython3",
   "version": "3.8.3"
  }
 },
 "nbformat": 4,
 "nbformat_minor": 4
}
