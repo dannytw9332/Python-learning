{
 "cells": [
  {
   "cell_type": "code",
   "execution_count": 20,
   "metadata": {},
   "outputs": [],
   "source": [
    "def staircase(n):\n",
    "    count1 = 0\n",
    "    for i in range(n+1):\n",
    "        for j in range(n+1):\n",
    "            if(i*2)+(j*1) == n:\n",
    "                if i and j != 0:\n",
    "                    up_num = 1\n",
    "                    down_num = 1\n",
    "                    if j >= i:\n",
    "                        for k in range(i):\n",
    "                            up_num *= (i+j-k)\n",
    "                            down_num *= (i-k)\n",
    "                        count1 += int(up_num/down_num)\n",
    "                    elif i >= j:\n",
    "                        for l in range(j):\n",
    "                            up_num *= (i+j-l)\n",
    "                            down_num *= (j-l)\n",
    "                        count1 += int(up_num/down_num)\n",
    "                else:\n",
    "                    count1 += 1\n",
    "            else:\n",
    "                continue\n",
    "    return count1"
   ]
  },
  {
   "cell_type": "code",
   "execution_count": 21,
   "metadata": {},
   "outputs": [
    {
     "data": {
      "text/plain": [
       "2"
      ]
     },
     "execution_count": 21,
     "metadata": {},
     "output_type": "execute_result"
    }
   ],
   "source": [
    "staircase(2)"
   ]
  },
  {
   "cell_type": "code",
   "execution_count": 22,
   "metadata": {},
   "outputs": [
    {
     "data": {
      "text/plain": [
       "34"
      ]
     },
     "execution_count": 22,
     "metadata": {},
     "output_type": "execute_result"
    }
   ],
   "source": [
    "staircase(8)"
   ]
  },
  {
   "cell_type": "code",
   "execution_count": 23,
   "metadata": {},
   "outputs": [
    {
     "data": {
      "text/plain": [
       "55"
      ]
     },
     "execution_count": 23,
     "metadata": {},
     "output_type": "execute_result"
    }
   ],
   "source": [
    "staircase(9)"
   ]
  },
  {
   "cell_type": "code",
   "execution_count": 24,
   "metadata": {},
   "outputs": [
    {
     "data": {
      "text/plain": [
       "377"
      ]
     },
     "execution_count": 24,
     "metadata": {},
     "output_type": "execute_result"
    }
   ],
   "source": [
    "staircase(13)"
   ]
  }
 ],
 "metadata": {
  "kernelspec": {
   "display_name": "Python 3",
   "language": "python",
   "name": "python3"
  },
  "language_info": {
   "codemirror_mode": {
    "name": "ipython",
    "version": 3
   },
   "file_extension": ".py",
   "mimetype": "text/x-python",
   "name": "python",
   "nbconvert_exporter": "python",
   "pygments_lexer": "ipython3",
   "version": "3.8.3"
  }
 },
 "nbformat": 4,
 "nbformat_minor": 4
}
