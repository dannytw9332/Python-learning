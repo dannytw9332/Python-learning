{
 "cells": [
  {
   "cell_type": "code",
   "execution_count": 130,
   "metadata": {},
   "outputs": [],
   "source": [
    "def dectobin(int1):\n",
    "    ans = \"\"\n",
    "    temp = 0\n",
    "    for i in range(int1 + 1):\n",
    "        if int1 <= 2:\n",
    "            temp = 1\n",
    "            break\n",
    "        elif 2**i < int1 < 2**(i+1):\n",
    "            temp = i\n",
    "            break\n",
    "        elif int1 == 2**(i+1):\n",
    "            temp = i+1\n",
    "            break\n",
    "    list1 =[]\n",
    "    for j in range(temp+1):\n",
    "        list1.append(j)\n",
    "    list1.sort(reverse = True)\n",
    "    for x in list1:\n",
    "        if int1 > 2**x:\n",
    "            ans += str(1)\n",
    "            int1 -= 2**x\n",
    "        elif int1 == 2**x:\n",
    "            ans += str(1)\n",
    "            int1 -= 2**x\n",
    "        elif int1 == 1 and x == 0:\n",
    "            ans += str(1)\n",
    "            int1 -= 1\n",
    "        else:\n",
    "            ans += str(0)\n",
    "    return ans\n",
    "            "
   ]
  },
  {
   "cell_type": "code",
   "execution_count": 136,
   "metadata": {},
   "outputs": [
    {
     "data": {
      "text/plain": [
       "'1100100'"
      ]
     },
     "execution_count": 136,
     "metadata": {},
     "output_type": "execute_result"
    }
   ],
   "source": [
    "test = 100\n",
    "dectobin(test)"
   ]
  },
  {
   "cell_type": "code",
   "execution_count": null,
   "metadata": {},
   "outputs": [],
   "source": []
  }
 ],
 "metadata": {
  "kernelspec": {
   "display_name": "Python 3",
   "language": "python",
   "name": "python3"
  },
  "language_info": {
   "codemirror_mode": {
    "name": "ipython",
    "version": 3
   },
   "file_extension": ".py",
   "mimetype": "text/x-python",
   "name": "python",
   "nbconvert_exporter": "python",
   "pygments_lexer": "ipython3",
   "version": "3.8.3"
  }
 },
 "nbformat": 4,
 "nbformat_minor": 4
}
