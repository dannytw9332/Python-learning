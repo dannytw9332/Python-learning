{
 "cells": [
  {
   "cell_type": "code",
   "execution_count": 1,
   "metadata": {},
   "outputs": [
    {
     "data": {
      "text/plain": [
       "'\\nWrite a function:\\n\\ndef solution(A)\\n\\nDepending on a list A to return the smallest positive integer (greater than 0) that does not occur in A.\\n\\nFor example, A = [1, 3, 6, 4, 1, 2] and the function should return 5.\\n\\nGiven A = [1, 2, 3], the function should return 4.\\n\\nGiven A = [−1, −3], the function should return 1.\\n\\nWrite an efficient algorithm for the following assumptions:\\n\\nN is an integer within the range [1..100,000];\\neach element of array A is an integer within the range [−1,000,000..1,000,000].\\nCopyright 2009–2022 by Codility Limited. All Rights Reserved. Unauthorized copying, publication or disclosure prohibited.\\n'"
      ]
     },
     "execution_count": 1,
     "metadata": {},
     "output_type": "execute_result"
    }
   ],
   "source": [
    "\"\"\"\n",
    "Write a function:\n",
    "\n",
    "def solution(A)\n",
    "\n",
    "Depending on a list A to return the smallest positive integer (greater than 0) that does not occur in A.\n",
    "\n",
    "For example, A = [1, 3, 6, 4, 1, 2] and the function should return 5.\n",
    "\n",
    "Given A = [1, 2, 3], the function should return 4.\n",
    "\n",
    "Given A = [−1, −3], the function should return 1.\n",
    "\n",
    "Given A = [-2,-3,-8,1,2,1,4], the function should return 3.\n",
    "\n",
    "\"\"\""
   ]
  },
  {
   "cell_type": "code",
   "execution_count": 17,
   "metadata": {},
   "outputs": [
    {
     "name": "stdout",
     "output_type": "stream",
     "text": [
      "6\n"
     ]
    }
   ],
   "source": [
    "#coded the first two parts because they are all positive integer.\n",
    "def solution1(A):\n",
    "    maxA = max(A)\n",
    "    for i in range(1,maxA + 1):\n",
    "        if i in A:\n",
    "            if i == maxA:\n",
    "                print(i + 1)\n",
    "                break\n",
    "            continue\n",
    "        else:\n",
    "            print(i)\n",
    "            break\n",
    "\n",
    "A = [1,2,3,7,5,1,4,10,9]\n",
    "solution1(A)"
   ]
  },
  {
   "cell_type": "code",
   "execution_count": 26,
   "metadata": {},
   "outputs": [
    {
     "name": "stdout",
     "output_type": "stream",
     "text": [
      "integer is positive: 2 . all numbers should be negative\n"
     ]
    }
   ],
   "source": [
    "#negative integer\n",
    "def solution2(A):\n",
    "    count = 0\n",
    "    for i in A:\n",
    "        if i < 0:\n",
    "            count = count + 1\n",
    "        elif i > 0:\n",
    "            print(\"integer is positive:\",i,\". all numbers should be negative\")\n",
    "            break\n",
    "        if count == len(A):\n",
    "            print(1)\n",
    "\n",
    "            \n",
    "A = [-2,-3,2,-3]\n",
    "solution2(A)\n",
    "        "
   ]
  },
  {
   "cell_type": "code",
   "execution_count": 30,
   "metadata": {},
   "outputs": [
    {
     "name": "stdout",
     "output_type": "stream",
     "text": [
      "2\n"
     ]
    }
   ],
   "source": [
    "#combine two codes\n",
    "def solution(A):\n",
    "    maxA = max(A)\n",
    "    count = 0\n",
    "    for i in A:\n",
    "        if i < 0:\n",
    "            count = count + 1\n",
    "        else:\n",
    "            break\n",
    "        if count == len(A):\n",
    "            print(1)\n",
    "\n",
    "    \n",
    "    for k in range(1,maxA + 1):\n",
    "        if k in A:\n",
    "            if k == maxA:\n",
    "                print(k + 1)\n",
    "                break\n",
    "            continue\n",
    "        else:\n",
    "            print(k)\n",
    "            break\n",
    "    \n",
    "    \n",
    "A = [-1,6,-3,5,6,1]\n",
    "solution(A)"
   ]
  }
 ],
 "metadata": {
  "kernelspec": {
   "display_name": "Python 3",
   "language": "python",
   "name": "python3"
  },
  "language_info": {
   "codemirror_mode": {
    "name": "ipython",
    "version": 3
   },
   "file_extension": ".py",
   "mimetype": "text/x-python",
   "name": "python",
   "nbconvert_exporter": "python",
   "pygments_lexer": "ipython3",
   "version": "3.8.3"
  }
 },
 "nbformat": 4,
 "nbformat_minor": 4
}
