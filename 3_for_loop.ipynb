{
 "cells": [
  {
   "cell_type": "code",
   "execution_count": 2,
   "metadata": {},
   "outputs": [
    {
     "name": "stdout",
     "output_type": "stream",
     "text": [
      "Blue \n",
      "\n",
      "Red \n",
      "\n",
      "Yellow \n",
      "\n"
     ]
    }
   ],
   "source": [
    "# This part is for loop\n",
    "#basic for loop\n",
    "\n",
    "color = [\"Blue\",\"Red\",\"Yellow\"]\n",
    "for x in color:\n",
    "    print(x,\"\\n\")"
   ]
  },
  {
   "cell_type": "code",
   "execution_count": 4,
   "metadata": {},
   "outputs": [
    {
     "name": "stdout",
     "output_type": "stream",
     "text": [
      "W\n",
      "a\n",
      "t\n",
      "e\n",
      "r\n",
      "m\n",
      "e\n",
      "l\n",
      "o\n",
      "n\n"
     ]
    }
   ],
   "source": [
    "# for loop not only use on list but also work for string\n",
    "\n",
    "a = \"Watermelon\"\n",
    "for x in a:\n",
    "    print(x)"
   ]
  },
  {
   "cell_type": "code",
   "execution_count": 6,
   "metadata": {},
   "outputs": [
    {
     "name": "stdout",
     "output_type": "stream",
     "text": [
      "Blue\n",
      "Red\n"
     ]
    }
   ],
   "source": [
    "# use dreak statement to jump out the loop\n",
    "\n",
    "for x in color:\n",
    "    print(x)\n",
    "    if x == \"Red\":\n",
    "        break"
   ]
  },
  {
   "cell_type": "code",
   "execution_count": 7,
   "metadata": {},
   "outputs": [
    {
     "name": "stdout",
     "output_type": "stream",
     "text": [
      "Blue\n",
      "Yellow\n"
     ]
    }
   ],
   "source": [
    "# use continue statement to skip specific content\n",
    "\n",
    "for x in color:\n",
    "    if x == \"Red\":\n",
    "        continue\n",
    "    print(x)"
   ]
  },
  {
   "cell_type": "code",
   "execution_count": 9,
   "metadata": {},
   "outputs": [
    {
     "name": "stdout",
     "output_type": "stream",
     "text": [
      "Now 24 smallest: 24\n",
      "Now 56 smallest: 24\n",
      "Now 78 smallest: 24\n",
      "Now 12 smallest: 12\n",
      "Now 36 smallest: 12\n",
      "Now 78 smallest: 12\n",
      "Now 54 smallest: 12\n",
      "Now 8 smallest: 8\n",
      "Now 25 smallest: 8\n",
      "Now 79 smallest: 8\n",
      "Now 1 smallest: 1\n",
      "Now 46 smallest: 1\n",
      "smallest number is: 1\n"
     ]
    }
   ],
   "source": [
    "# small test\n",
    "# use for loop and if statement to find the smallest numberi in a list\n",
    "list1 = [24,56,78,12,36,78,54,8,25,79,1,46]\n",
    "\n",
    "\n",
    "\n",
    "\n",
    "# Result\n",
    "smallest = None\n",
    "for num in list1:\n",
    "    if smallest is None or num < smallest:\n",
    "        smallest = num\n",
    "    print(\"Now\",num,\"smallest:\",smallest)\n",
    "print(\"smallest number is:\",smallest)"
   ]
  },
  {
   "cell_type": "code",
   "execution_count": null,
   "metadata": {},
   "outputs": [],
   "source": []
  }
 ],
 "metadata": {
  "kernelspec": {
   "display_name": "Python 3",
   "language": "python",
   "name": "python3"
  },
  "language_info": {
   "codemirror_mode": {
    "name": "ipython",
    "version": 3
   },
   "file_extension": ".py",
   "mimetype": "text/x-python",
   "name": "python",
   "nbconvert_exporter": "python",
   "pygments_lexer": "ipython3",
   "version": "3.8.3"
  }
 },
 "nbformat": 4,
 "nbformat_minor": 4
}
